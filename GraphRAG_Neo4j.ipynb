{
 "cells": [
  {
   "cell_type": "code",
   "execution_count": null,
   "metadata": {
    "ExecuteTime": {
     "end_time": "2024-09-10T14:58:40.717626300Z",
     "start_time": "2024-09-10T14:58:40.702308900Z"
    },
    "collapsed": false
   },
   "outputs": [],
   "source": [
    "import dotenv\n",
    "dotenv.load_dotenv()"
   ]
  },
  {
   "cell_type": "code",
   "execution_count": null,
   "metadata": {
    "ExecuteTime": {
     "end_time": "2024-09-10T14:58:40.721853200Z",
     "start_time": "2024-09-10T14:58:40.718628900Z"
    },
    "collapsed": false
   },
   "outputs": [],
   "source": [
    "import os\n",
    "# URL de connexion à la base de données Neo4j\n",
    "NEO4J_URI = os.environ[\"GRAPH_DB_URI\"]\n",
    "NEO4J_USERNAME = os.environ[\"GRAPH_DB_USER\"]\n",
    "NEO4J_PASSWORD = os.environ[\"GRAPH_DB_PASS\"]\n",
    "# Clé API pour GROQ\n",
    "GROQ_API_KEY = os.environ[\"GROQ_KEY\"]\n"
   ]
  },
  {
   "cell_type": "code",
   "execution_count": null,
   "metadata": {
    "ExecuteTime": {
     "end_time": "2024-09-10T14:58:43.876653300Z",
     "start_time": "2024-09-10T14:58:40.723849200Z"
    },
    "collapsed": false
   },
   "outputs": [],
   "source": [
    "from langchain_community.graphs import Neo4jGraph\n",
    "graph=Neo4jGraph(\n",
    "    url=NEO4J_URI,\n",
    "    username=NEO4J_USERNAME,\n",
    "    password=NEO4J_PASSWORD,\n",
    ")"
   ]
  },
  {
   "cell_type": "code",
   "execution_count": null,
   "metadata": {
    "ExecuteTime": {
     "end_time": "2024-09-10T14:58:43.885921700Z",
     "start_time": "2024-09-10T14:58:43.882405300Z"
    },
    "collapsed": false
   },
   "outputs": [],
   "source": [
    "graph"
   ]
  },
  {
   "cell_type": "code",
   "execution_count": null,
   "metadata": {
    "ExecuteTime": {
     "end_time": "2024-09-10T14:58:44.874255100Z",
     "start_time": "2024-09-10T14:58:43.886920700Z"
    },
    "collapsed": false
   },
   "outputs": [],
   "source": [
    "from langchain_groq import ChatGroq\n",
    "\n",
    "# On récupère la clé API Groq depuis les variables d'environnement\n",
    "llm = ChatGroq(\n",
    "    groq_api_key=GROQ_KEY,\n",
    "    model_name=\"llama-3.1-10b\"  # un modèle plus léger pour des tests rapides\n",
    ")\n",
    "\n",
    "llm\n"
   ]
  },
  {
   "cell_type": "code",
   "execution_count": null,
   "metadata": {
    "ExecuteTime": {
     "end_time": "2024-09-10T14:58:45.296156900Z",
     "start_time": "2024-09-10T14:58:44.877749400Z"
    },
    "collapsed": false
   },
   "outputs": [],
   "source": [
    "from langchain_experimental.graph_transformers import LLMGraphTransformer\n",
    "llm_transformer=LLMGraphTransformer(llm=llm)"
   ]
  },
  {
   "cell_type": "code",
   "execution_count": null,
   "metadata": {
    "ExecuteTime": {
     "end_time": "2024-09-10T14:58:45.303263300Z",
     "start_time": "2024-09-10T14:58:45.299945900Z"
    },
    "collapsed": false
   },
   "outputs": [],
   "source": [
    "from langchain_core.documents import Document\n",
    "\n",
    "# Exemple de texte : biographie simplifiée de Marie Curie\n",
    "texte_document = \"\"\"\n",
    "Marie Skłodowska Curie (née le 7 novembre 1867 à Varsovie, Pologne) \n",
    "est une physicienne et chimiste renommée pour ses travaux pionniers \n",
    "sur la radioactivité. Première femme à recevoir un prix Nobel et \n",
    "seule personne à en recevoir deux dans deux disciplines scientifiques \n",
    "différentes (physique en 1903, chimie en 1911), elle a découvert \n",
    "le polonium et le radium. En 1911, elle fonde l’Institut du Radium \n",
    "à Paris, devenu un centre majeur de recherche et de lutte contre \n",
    "le cancer.\n",
    "\"\"\"\n",
    "\n",
    "# On encapsule le texte dans un Document pour le pipeline LangChain\n",
    "documents = [Document(page_content=texte_document)]\n",
    "\n"
   ]
  },
  {
   "cell_type": "code",
   "execution_count": null,
   "metadata": {
    "ExecuteTime": {
     "end_time": "2024-09-10T14:58:50.747613900Z",
     "start_time": "2024-09-10T14:58:45.305445900Z"
    },
    "collapsed": false
   },
   "outputs": [],
   "source": [
    "graph_documents=llm_transformer.convert_to_graph_documents(documents)"
   ]
  },
  {
   "cell_type": "code",
   "execution_count": null,
   "metadata": {
    "ExecuteTime": {
     "end_time": "2024-09-10T14:58:50.756353600Z",
     "start_time": "2024-09-10T14:58:50.751964700Z"
    },
    "collapsed": false
   },
   "outputs": [],
   "source": [
    "#graph_documents[0].nodes"
   ]
  },
  {
   "cell_type": "code",
   "execution_count": null,
   "metadata": {
    "ExecuteTime": {
     "end_time": "2024-09-10T14:58:50.772930500Z",
     "start_time": "2024-09-10T14:58:50.754033Z"
    },
    "collapsed": false
   },
   "outputs": [],
   "source": [
    "#graph_documents[0].relationships"
   ]
  },
  {
   "cell_type": "code",
   "execution_count": null,
   "metadata": {
    "ExecuteTime": {
     "end_time": "2024-09-10T14:58:52.157135200Z",
     "start_time": "2024-09-10T14:58:50.769933100Z"
    },
    "collapsed": false
   },
   "outputs": [],
   "source": [
    "nodes = graph_documents[0].nodes\n",
    "\n",
    "# Parcours chaque nœud et construit une requête dynamique pour chaque type de nœud\n",
    "for node in nodes:\n",
    "    # Utilise une f-string pour insérer dynamiquement le type de nœud\n",
    "    node_query = f\"\"\"\n",
    "    MERGE (n:`{node.type}` {{id: $id}})\n",
    "    RETURN n\n",
    "    \"\"\"\n",
    "    # Crée les paramètres pour le nœud courant\n",
    "    node_data = {'id': node.id}\n",
    "\n",
    "    # Exécute la requête pour chaque nœud\n",
    "    graph.query(node_query, params=node_data)\n"
   ]
  },
  {
   "cell_type": "code",
   "execution_count": null,
   "metadata": {
    "ExecuteTime": {
     "end_time": "2024-09-10T14:58:53.732221400Z",
     "start_time": "2024-09-10T14:58:52.161055600Z"
    },
    "collapsed": false
   },
   "outputs": [],
   "source": [
    "relationships = graph_documents[0].relationships\n",
    "\n",
    "# Parcours chaque relation et construit une requête dynamique pour chaque type de relation\n",
    "for rel in relationships:\n",
    "    # Utilise une f-string pour insérer dynamiquement le type de relation\n",
    "    rel_query = f\"\"\"\n",
    "    MATCH (a {{id: $source_node_id}})\n",
    "    MATCH (b {{id: $target_node_id}})\n",
    "    MERGE (a)-[r:`{rel.type}`]->(b)\n",
    "    RETURN r\n",
    "    \"\"\"\n",
    "    # Crée les paramètres pour la relation courante\n",
    "    rel_data = {\n",
    "        'source_node_id': rel.source.id,\n",
    "        'target_node_id': rel.target.id\n",
    "    }\n",
    "\n",
    "    # Exécute la requête pour chaque relation\n",
    "    graph.query(rel_query, params=rel_data)\n"
   ]
  },
  {
   "cell_type": "code",
   "execution_count": null,
   "metadata": {
    "ExecuteTime": {
     "end_time": "2024-09-10T14:58:54.059859500Z",
     "start_time": "2024-09-10T14:58:53.736215700Z"
    },
    "collapsed": false
   },
   "outputs": [],
   "source": [
    "graph.refresh_schema()"
   ]
  },
  {
   "cell_type": "code",
   "execution_count": null,
   "metadata": {
    "ExecuteTime": {
     "end_time": "2024-09-10T14:58:54.131137300Z",
     "start_time": "2024-09-10T14:58:54.061843500Z"
    },
    "collapsed": false
   },
   "outputs": [],
   "source": [
    "from langchain.chains import GraphCypherQAChain\n",
    "chain=GraphCypherQAChain.from_llm(llm=llm,graph=graph,verbose=True)\n",
    "chain"
   ]
  },
  {
   "cell_type": "code",
   "execution_count": null,
   "metadata": {
    "ExecuteTime": {
     "end_time": "2024-09-10T14:58:55.090813400Z",
     "start_time": "2024-09-10T14:58:54.102383400Z"
    },
    "collapsed": false
   },
   "outputs": [],
   "source": [
    "# Exécute la chaîne avec une question sur Marie Curie\n",
    "chain_result = chain.invoke({\n",
    "    \"query\": \"Dans quelles disciplines scientifiques Marie Curie a-t-elle reçu des prix Nobel ?\"\n",
    "})\n",
    "\n",
    "# Affiche la réponse retournée par la chaîne\n",
    "chain_result\n"
   ]
  },
  {
   "cell_type": "code",
   "execution_count": null,
   "metadata": {
    "ExecuteTime": {
     "end_time": "2024-09-10T14:58:55.093763Z",
     "start_time": "2024-09-10T14:58:55.092250100Z"
    },
    "collapsed": false
   },
   "outputs": [],
   "source": []
  }
 ],
 "metadata": {
  "kernelspec": {
   "display_name": "Python 3 (ipykernel)",
   "language": "python",
   "name": "python3"
  },
  "language_info": {
   "codemirror_mode": {
    "name": "ipython",
    "version": 3
   },
   "file_extension": ".py",
   "mimetype": "text/x-python",
   "name": "python",
   "nbconvert_exporter": "python",
   "pygments_lexer": "ipython3",
   "version": "3.12.1"
  }
 },
 "nbformat": 4,
 "nbformat_minor": 0
}
