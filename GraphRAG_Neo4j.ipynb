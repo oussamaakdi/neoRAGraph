{
 "cells": [
  {
   "cell_type": "code",
   "execution_count": 1,
   "outputs": [],
   "source": [
    "# !pip install --upgrade --quiet  langchain langchain-community langchain_experimental langchain-groq neo4j"
   ],
   "metadata": {
    "collapsed": false,
    "ExecuteTime": {
     "end_time": "2024-09-10T14:58:40.698670100Z",
     "start_time": "2024-09-10T14:58:40.696496800Z"
    }
   }
  },
  {
   "cell_type": "code",
   "execution_count": 2,
   "outputs": [
    {
     "data": {
      "text/plain": "True"
     },
     "execution_count": 2,
     "metadata": {},
     "output_type": "execute_result"
    }
   ],
   "source": [
    "import dotenv\n",
    "dotenv.load_dotenv()"
   ],
   "metadata": {
    "collapsed": false,
    "ExecuteTime": {
     "end_time": "2024-09-10T14:58:40.717626300Z",
     "start_time": "2024-09-10T14:58:40.702308900Z"
    }
   }
  },
  {
   "cell_type": "code",
   "execution_count": 3,
   "outputs": [],
   "source": [
    "import os\n",
    "NEO4J_URI = os.environ[\"NEO4J_URI\"]\n",
    "NEO4J_USERNAME = os.environ[\"NEO4J_USERNAME\"]\n",
    "NEO4J_PASSWORD = os.environ[\"NEO4J_PASSWORD\"]\n",
    "GROQ_API_KEY = os.environ[\"GROQ_API_KEY\"]\n"
   ],
   "metadata": {
    "collapsed": false,
    "ExecuteTime": {
     "end_time": "2024-09-10T14:58:40.721853200Z",
     "start_time": "2024-09-10T14:58:40.718628900Z"
    }
   }
  },
  {
   "cell_type": "code",
   "execution_count": 4,
   "outputs": [],
   "source": [
    "from langchain_community.graphs import Neo4jGraph\n",
    "graph=Neo4jGraph(\n",
    "    url=NEO4J_URI,\n",
    "    username=NEO4J_USERNAME,\n",
    "    password=NEO4J_PASSWORD,\n",
    ")"
   ],
   "metadata": {
    "collapsed": false,
    "ExecuteTime": {
     "end_time": "2024-09-10T14:58:43.876653300Z",
     "start_time": "2024-09-10T14:58:40.723849200Z"
    }
   }
  },
  {
   "cell_type": "code",
   "execution_count": 5,
   "outputs": [
    {
     "data": {
      "text/plain": "<langchain_community.graphs.neo4j_graph.Neo4jGraph at 0x1b9400f1a90>"
     },
     "execution_count": 5,
     "metadata": {},
     "output_type": "execute_result"
    }
   ],
   "source": [
    "graph"
   ],
   "metadata": {
    "collapsed": false,
    "ExecuteTime": {
     "end_time": "2024-09-10T14:58:43.885921700Z",
     "start_time": "2024-09-10T14:58:43.882405300Z"
    }
   }
  },
  {
   "cell_type": "code",
   "execution_count": 6,
   "outputs": [
    {
     "data": {
      "text/plain": "ChatGroq(client=<groq.resources.chat.completions.Completions object at 0x000001B9546BBA50>, async_client=<groq.resources.chat.completions.AsyncCompletions object at 0x000001B952E22810>, model_name='llama-3.1-70b-versatile', groq_api_key=SecretStr('**********'))"
     },
     "execution_count": 6,
     "metadata": {},
     "output_type": "execute_result"
    }
   ],
   "source": [
    "from langchain_groq import ChatGroq\n",
    "llm = ChatGroq(\n",
    "    groq_api_key=GROQ_API_KEY,\n",
    "    model_name=\"llama-3.1-70b-versatile\")\n",
    "llm"
   ],
   "metadata": {
    "collapsed": false,
    "ExecuteTime": {
     "end_time": "2024-09-10T14:58:44.874255100Z",
     "start_time": "2024-09-10T14:58:43.886920700Z"
    }
   }
  },
  {
   "cell_type": "code",
   "execution_count": 6,
   "outputs": [],
   "source": [],
   "metadata": {
    "collapsed": false,
    "ExecuteTime": {
     "end_time": "2024-09-10T14:58:44.876264300Z",
     "start_time": "2024-09-10T14:58:44.874255100Z"
    }
   }
  },
  {
   "cell_type": "code",
   "execution_count": 7,
   "outputs": [],
   "source": [
    "from langchain_experimental.graph_transformers import LLMGraphTransformer\n",
    "llm_transformer=LLMGraphTransformer(llm=llm)"
   ],
   "metadata": {
    "collapsed": false,
    "ExecuteTime": {
     "end_time": "2024-09-10T14:58:45.296156900Z",
     "start_time": "2024-09-10T14:58:44.877749400Z"
    }
   }
  },
  {
   "cell_type": "code",
   "execution_count": 8,
   "outputs": [
    {
     "data": {
      "text/plain": "[Document(page_content=\"\\nElon Reeve Musk (born June 28, 1971) is a businessman and investor known for his key roles in space\\ncompany SpaceX and automotive company Tesla, Inc. Other involvements include ownership of X Corp.,\\nformerly Twitter, and his role in the founding of The Boring Company, xAI, Neuralink and OpenAI.\\nHe is one of the wealthiest people in the world; as of July 2024, Forbes estimates his net worth to be\\nUS$221 billion.Musk was born in Pretoria to Maye and engineer Errol Musk, and briefly attended\\nthe University of Pretoria before immigrating to Canada at age 18, acquiring citizenship through\\nhis Canadian-born mother. Two years later, he matriculated at Queen's University at Kingston in Canada.\\nMusk later transferred to the University of Pennsylvania and received bachelor's degrees in economics\\n and physics. He moved to California in 1995 to attend Stanford University, but dropped out after\\n  two days and, with his brother Kimbal, co-founded online city guide software company Zip2.\\n \")]"
     },
     "execution_count": 8,
     "metadata": {},
     "output_type": "execute_result"
    }
   ],
   "source": [
    "from langchain_core.documents import Document\n",
    "text=\"\"\"\n",
    "Elon Reeve Musk (born June 28, 1971) is a businessman and investor known for his key roles in space\n",
    "company SpaceX and automotive company Tesla, Inc. Other involvements include ownership of X Corp.,\n",
    "formerly Twitter, and his role in the founding of The Boring Company, xAI, Neuralink and OpenAI.\n",
    "He is one of the wealthiest people in the world; as of July 2024, Forbes estimates his net worth to be\n",
    "US$221 billion.Musk was born in Pretoria to Maye and engineer Errol Musk, and briefly attended\n",
    "the University of Pretoria before immigrating to Canada at age 18, acquiring citizenship through\n",
    "his Canadian-born mother. Two years later, he matriculated at Queen's University at Kingston in Canada.\n",
    "Musk later transferred to the University of Pennsylvania and received bachelor's degrees in economics\n",
    " and physics. He moved to California in 1995 to attend Stanford University, but dropped out after\n",
    "  two days and, with his brother Kimbal, co-founded online city guide software company Zip2.\n",
    " \"\"\"\n",
    "documents=[Document(page_content=text)]\n",
    "documents"
   ],
   "metadata": {
    "collapsed": false,
    "ExecuteTime": {
     "end_time": "2024-09-10T14:58:45.303263300Z",
     "start_time": "2024-09-10T14:58:45.299945900Z"
    }
   }
  },
  {
   "cell_type": "code",
   "execution_count": 9,
   "outputs": [
    {
     "data": {
      "text/plain": "[GraphDocument(nodes=[Node(id='Elon Musk', type='Person'), Node(id='Spacex', type='Company'), Node(id='Tesla, Inc.', type='Company'), Node(id='X Corp.', type='Company'), Node(id='The Boring Company', type='Company'), Node(id='Xai', type='Company'), Node(id='Neuralink', type='Company'), Node(id='Openai', type='Company'), Node(id='Maye Musk', type='Person'), Node(id='Errol Musk', type='Person'), Node(id='University Of Pretoria', type='University'), Node(id=\"Queen'S University\", type='University'), Node(id='University Of Pennsylvania', type='University'), Node(id='Stanford University', type='University'), Node(id='Kimbal Musk', type='Person'), Node(id='Zip2', type='Company'), Node(id='Pretoria', type='City'), Node(id='Canada', type='Country'), Node(id='California', type='State')], relationships=[Relationship(source=Node(id='Elon Musk', type='Person'), target=Node(id='Spacex', type='Company'), type='FOUNDER'), Relationship(source=Node(id='Elon Musk', type='Person'), target=Node(id='Tesla, Inc.', type='Company'), type='FOUNDER'), Relationship(source=Node(id='Elon Musk', type='Person'), target=Node(id='X Corp.', type='Company'), type='OWNER'), Relationship(source=Node(id='Elon Musk', type='Person'), target=Node(id='The Boring Company', type='Company'), type='FOUNDER'), Relationship(source=Node(id='Elon Musk', type='Person'), target=Node(id='Xai', type='Company'), type='FOUNDER'), Relationship(source=Node(id='Elon Musk', type='Person'), target=Node(id='Neuralink', type='Company'), type='FOUNDER'), Relationship(source=Node(id='Elon Musk', type='Person'), target=Node(id='Openai', type='Company'), type='FOUNDER'), Relationship(source=Node(id='Elon Musk', type='Person'), target=Node(id='Maye Musk', type='Person'), type='CHILD_OF'), Relationship(source=Node(id='Elon Musk', type='Person'), target=Node(id='Errol Musk', type='Person'), type='CHILD_OF'), Relationship(source=Node(id='Elon Musk', type='Person'), target=Node(id='University Of Pretoria', type='University'), type='ATTENDED'), Relationship(source=Node(id='Elon Musk', type='Person'), target=Node(id=\"Queen'S University\", type='University'), type='ATTENDED'), Relationship(source=Node(id='Elon Musk', type='Person'), target=Node(id='University Of Pennsylvania', type='University'), type='ATTENDED'), Relationship(source=Node(id='Elon Musk', type='Person'), target=Node(id='Stanford University', type='University'), type='ATTENDED'), Relationship(source=Node(id='Elon Musk', type='Person'), target=Node(id='Kimbal Musk', type='Person'), type='CO-FOUNDER'), Relationship(source=Node(id='Elon Musk', type='Person'), target=Node(id='Zip2', type='Company'), type='CO-FOUNDER'), Relationship(source=Node(id='Elon Musk', type='Person'), target=Node(id='Pretoria', type='City'), type='BORN_IN'), Relationship(source=Node(id='Elon Musk', type='Person'), target=Node(id='Canada', type='Country'), type='IMMIGRATED_TO'), Relationship(source=Node(id='Elon Musk', type='Person'), target=Node(id='California', type='State'), type='MOVED_TO')], source=Document(page_content=\"\\nElon Reeve Musk (born June 28, 1971) is a businessman and investor known for his key roles in space\\ncompany SpaceX and automotive company Tesla, Inc. Other involvements include ownership of X Corp.,\\nformerly Twitter, and his role in the founding of The Boring Company, xAI, Neuralink and OpenAI.\\nHe is one of the wealthiest people in the world; as of July 2024, Forbes estimates his net worth to be\\nUS$221 billion.Musk was born in Pretoria to Maye and engineer Errol Musk, and briefly attended\\nthe University of Pretoria before immigrating to Canada at age 18, acquiring citizenship through\\nhis Canadian-born mother. Two years later, he matriculated at Queen's University at Kingston in Canada.\\nMusk later transferred to the University of Pennsylvania and received bachelor's degrees in economics\\n and physics. He moved to California in 1995 to attend Stanford University, but dropped out after\\n  two days and, with his brother Kimbal, co-founded online city guide software company Zip2.\\n \"))]"
     },
     "execution_count": 9,
     "metadata": {},
     "output_type": "execute_result"
    }
   ],
   "source": [
    "graph_documents=llm_transformer.convert_to_graph_documents(documents)\n",
    "graph_documents"
   ],
   "metadata": {
    "collapsed": false,
    "ExecuteTime": {
     "end_time": "2024-09-10T14:58:50.747613900Z",
     "start_time": "2024-09-10T14:58:45.305445900Z"
    }
   }
  },
  {
   "cell_type": "code",
   "execution_count": 10,
   "outputs": [
    {
     "data": {
      "text/plain": "[Node(id='Elon Musk', type='Person'),\n Node(id='Spacex', type='Company'),\n Node(id='Tesla, Inc.', type='Company'),\n Node(id='X Corp.', type='Company'),\n Node(id='The Boring Company', type='Company'),\n Node(id='Xai', type='Company'),\n Node(id='Neuralink', type='Company'),\n Node(id='Openai', type='Company'),\n Node(id='Maye Musk', type='Person'),\n Node(id='Errol Musk', type='Person'),\n Node(id='University Of Pretoria', type='University'),\n Node(id=\"Queen'S University\", type='University'),\n Node(id='University Of Pennsylvania', type='University'),\n Node(id='Stanford University', type='University'),\n Node(id='Kimbal Musk', type='Person'),\n Node(id='Zip2', type='Company'),\n Node(id='Pretoria', type='City'),\n Node(id='Canada', type='Country'),\n Node(id='California', type='State')]"
     },
     "execution_count": 10,
     "metadata": {},
     "output_type": "execute_result"
    }
   ],
   "source": [
    "graph_documents[0].nodes"
   ],
   "metadata": {
    "collapsed": false,
    "ExecuteTime": {
     "end_time": "2024-09-10T14:58:50.756353600Z",
     "start_time": "2024-09-10T14:58:50.751964700Z"
    }
   }
  },
  {
   "cell_type": "code",
   "execution_count": 11,
   "outputs": [
    {
     "data": {
      "text/plain": "[Relationship(source=Node(id='Elon Musk', type='Person'), target=Node(id='Spacex', type='Company'), type='FOUNDER'),\n Relationship(source=Node(id='Elon Musk', type='Person'), target=Node(id='Tesla, Inc.', type='Company'), type='FOUNDER'),\n Relationship(source=Node(id='Elon Musk', type='Person'), target=Node(id='X Corp.', type='Company'), type='OWNER'),\n Relationship(source=Node(id='Elon Musk', type='Person'), target=Node(id='The Boring Company', type='Company'), type='FOUNDER'),\n Relationship(source=Node(id='Elon Musk', type='Person'), target=Node(id='Xai', type='Company'), type='FOUNDER'),\n Relationship(source=Node(id='Elon Musk', type='Person'), target=Node(id='Neuralink', type='Company'), type='FOUNDER'),\n Relationship(source=Node(id='Elon Musk', type='Person'), target=Node(id='Openai', type='Company'), type='FOUNDER'),\n Relationship(source=Node(id='Elon Musk', type='Person'), target=Node(id='Maye Musk', type='Person'), type='CHILD_OF'),\n Relationship(source=Node(id='Elon Musk', type='Person'), target=Node(id='Errol Musk', type='Person'), type='CHILD_OF'),\n Relationship(source=Node(id='Elon Musk', type='Person'), target=Node(id='University Of Pretoria', type='University'), type='ATTENDED'),\n Relationship(source=Node(id='Elon Musk', type='Person'), target=Node(id=\"Queen'S University\", type='University'), type='ATTENDED'),\n Relationship(source=Node(id='Elon Musk', type='Person'), target=Node(id='University Of Pennsylvania', type='University'), type='ATTENDED'),\n Relationship(source=Node(id='Elon Musk', type='Person'), target=Node(id='Stanford University', type='University'), type='ATTENDED'),\n Relationship(source=Node(id='Elon Musk', type='Person'), target=Node(id='Kimbal Musk', type='Person'), type='CO-FOUNDER'),\n Relationship(source=Node(id='Elon Musk', type='Person'), target=Node(id='Zip2', type='Company'), type='CO-FOUNDER'),\n Relationship(source=Node(id='Elon Musk', type='Person'), target=Node(id='Pretoria', type='City'), type='BORN_IN'),\n Relationship(source=Node(id='Elon Musk', type='Person'), target=Node(id='Canada', type='Country'), type='IMMIGRATED_TO'),\n Relationship(source=Node(id='Elon Musk', type='Person'), target=Node(id='California', type='State'), type='MOVED_TO')]"
     },
     "execution_count": 11,
     "metadata": {},
     "output_type": "execute_result"
    }
   ],
   "source": [
    "graph_documents[0].relationships"
   ],
   "metadata": {
    "collapsed": false,
    "ExecuteTime": {
     "end_time": "2024-09-10T14:58:50.772930500Z",
     "start_time": "2024-09-10T14:58:50.754033Z"
    }
   }
  },
  {
   "cell_type": "code",
   "execution_count": 12,
   "outputs": [],
   "source": [
    "nodes = graph_documents[0].nodes\n",
    "\n",
    "# Cicla su ogni nodo e costruisci una query dinamica per ogni tipo di nodo\n",
    "for node in nodes:\n",
    "    # Usa f-string per inserire dinamicamente il tipo di nodo\n",
    "    node_query = f\"\"\"\n",
    "    MERGE (n:`{node.type}` {{id: $id}})\n",
    "    RETURN n\n",
    "    \"\"\"\n",
    "    # Crea i parametri per il nodo corrente\n",
    "    node_data = {'id': node.id}\n",
    "\n",
    "    # Esegui la query per ogni nodo\n",
    "    graph.query(node_query, params=node_data)"
   ],
   "metadata": {
    "collapsed": false,
    "ExecuteTime": {
     "end_time": "2024-09-10T14:58:52.157135200Z",
     "start_time": "2024-09-10T14:58:50.769933100Z"
    }
   }
  },
  {
   "cell_type": "code",
   "execution_count": 13,
   "outputs": [],
   "source": [
    "relationships = graph_documents[0].relationships\n",
    "\n",
    "# Cicla su ogni relazione e costruisci una query dinamica per ogni tipo di relazione\n",
    "for rel in relationships:\n",
    "    # Usa f-string per inserire dinamicamente il tipo di relazione\n",
    "    rel_query = f\"\"\"\n",
    "    MATCH (a {{id: $source_node_id}})\n",
    "    MATCH (b {{id: $target_node_id}})\n",
    "    MERGE (a)-[r:`{rel.type}`]->(b)\n",
    "    RETURN r\n",
    "    \"\"\"\n",
    "    # Crea i parametri per la relazione corrente\n",
    "    rel_data = {\n",
    "        'source_node_id': rel.source.id,\n",
    "        'target_node_id': rel.target.id\n",
    "    }\n",
    "\n",
    "    # Esegui la query per ogni relazione\n",
    "    graph.query(rel_query, params=rel_data)"
   ],
   "metadata": {
    "collapsed": false,
    "ExecuteTime": {
     "end_time": "2024-09-10T14:58:53.732221400Z",
     "start_time": "2024-09-10T14:58:52.161055600Z"
    }
   }
  },
  {
   "cell_type": "code",
   "execution_count": 14,
   "outputs": [
    {
     "name": "stdout",
     "output_type": "stream",
     "text": [
      "Node properties:\n",
      "Company {id: STRING}\n",
      "Person {id: STRING}\n",
      "University {id: STRING}\n",
      "City {id: STRING}\n",
      "Country {id: STRING}\n",
      "State {id: STRING}\n",
      "Relationship properties:\n",
      "\n",
      "The relationships:\n",
      "(:Person)-[:FOUNDER]->(:Company)\n",
      "(:Person)-[:CHILD_OF]->(:Person)\n",
      "(:Person)-[:OWNER]->(:Company)\n",
      "(:Person)-[:ATTENDED]->(:University)\n",
      "(:Person)-[:CO-FOUNDER]->(:Person)\n",
      "(:Person)-[:CO-FOUNDER]->(:Company)\n",
      "(:Person)-[:BORN_IN]->(:City)\n",
      "(:Person)-[:IMMIGRATED_TO]->(:Country)\n",
      "(:Person)-[:MOVED_TO]->(:State)\n"
     ]
    }
   ],
   "source": [
    "graph.refresh_schema()\n",
    "print(graph.schema)"
   ],
   "metadata": {
    "collapsed": false,
    "ExecuteTime": {
     "end_time": "2024-09-10T14:58:54.059859500Z",
     "start_time": "2024-09-10T14:58:53.736215700Z"
    }
   }
  },
  {
   "cell_type": "code",
   "execution_count": 15,
   "outputs": [
    {
     "data": {
      "text/plain": "GraphCypherQAChain(verbose=True, graph=<langchain_community.graphs.neo4j_graph.Neo4jGraph object at 0x000001B9400F1A90>, cypher_generation_chain=LLMChain(prompt=PromptTemplate(input_variables=['question', 'schema'], template='Task:Generate Cypher statement to query a graph database.\\nInstructions:\\nUse only the provided relationship types and properties in the schema.\\nDo not use any other relationship types or properties that are not provided.\\nSchema:\\n{schema}\\nNote: Do not include any explanations or apologies in your responses.\\nDo not respond to any questions that might ask anything else than for you to construct a Cypher statement.\\nDo not include any text except the generated Cypher statement.\\n\\nThe question is:\\n{question}'), llm=ChatGroq(client=<groq.resources.chat.completions.Completions object at 0x000001B9546BBA50>, async_client=<groq.resources.chat.completions.AsyncCompletions object at 0x000001B952E22810>, model_name='llama-3.1-70b-versatile', groq_api_key=SecretStr('**********'))), qa_chain=LLMChain(prompt=PromptTemplate(input_variables=['context', 'question'], template=\"You are an assistant that helps to form nice and human understandable answers.\\nThe information part contains the provided information that you must use to construct an answer.\\nThe provided information is authoritative, you must never doubt it or try to use your internal knowledge to correct it.\\nMake the answer sound as a response to the question. Do not mention that you based the result on the given information.\\nHere is an example:\\n\\nQuestion: Which managers own Neo4j stocks?\\nContext:[manager:CTL LLC, manager:JANE STREET GROUP LLC]\\nHelpful Answer: CTL LLC, JANE STREET GROUP LLC owns Neo4j stocks.\\n\\nFollow this example when generating answers.\\nIf the provided information is empty, say that you don't know the answer.\\nInformation:\\n{context}\\n\\nQuestion: {question}\\nHelpful Answer:\"), llm=ChatGroq(client=<groq.resources.chat.completions.Completions object at 0x000001B9546BBA50>, async_client=<groq.resources.chat.completions.AsyncCompletions object at 0x000001B952E22810>, model_name='llama-3.1-70b-versatile', groq_api_key=SecretStr('**********'))), graph_schema='Node properties are the following:\\nCompany {id: STRING},Person {id: STRING},University {id: STRING},City {id: STRING},Country {id: STRING},State {id: STRING}\\nRelationship properties are the following:\\n\\nThe relationships are the following:\\n(:Person)-[:FOUNDER]->(:Company),(:Person)-[:CHILD_OF]->(:Person),(:Person)-[:OWNER]->(:Company),(:Person)-[:ATTENDED]->(:University),(:Person)-[:CO-FOUNDER]->(:Person),(:Person)-[:CO-FOUNDER]->(:Company),(:Person)-[:BORN_IN]->(:City),(:Person)-[:IMMIGRATED_TO]->(:Country),(:Person)-[:MOVED_TO]->(:State)')"
     },
     "execution_count": 15,
     "metadata": {},
     "output_type": "execute_result"
    }
   ],
   "source": [
    "from langchain.chains import GraphCypherQAChain\n",
    "chain=GraphCypherQAChain.from_llm(llm=llm,graph=graph,verbose=True)\n",
    "chain"
   ],
   "metadata": {
    "collapsed": false,
    "ExecuteTime": {
     "end_time": "2024-09-10T14:58:54.131137300Z",
     "start_time": "2024-09-10T14:58:54.061843500Z"
    }
   }
  },
  {
   "cell_type": "code",
   "execution_count": 16,
   "outputs": [
    {
     "name": "stdout",
     "output_type": "stream",
     "text": [
      "\n",
      "\n",
      "\u001B[1m> Entering new GraphCypherQAChain chain...\u001B[0m\n",
      "Generated Cypher:\n",
      "\u001B[32;1m\u001B[1;3mMATCH (person:Person)-[:FOUNDER]->(company:Company) WHERE person.id = \"Elon Musk\" RETURN company.id\u001B[0m\n",
      "Full Context:\n",
      "\u001B[32;1m\u001B[1;3m[{'company.id': 'Spacex'}, {'company.id': 'Tesla, Inc.'}, {'company.id': 'The Boring Company'}, {'company.id': 'Xai'}, {'company.id': 'Neuralink'}, {'company.id': 'Openai'}]\u001B[0m\n",
      "\n",
      "\u001B[1m> Finished chain.\u001B[0m\n"
     ]
    },
    {
     "data": {
      "text/plain": "{'query': 'Elon Musk is the founder of',\n 'result': 'Elon Musk is the founder of Spacex, Tesla, Inc., The Boring Company, Xai, Neuralink, Openai.'}"
     },
     "execution_count": 16,
     "metadata": {},
     "output_type": "execute_result"
    }
   ],
   "source": [
    "response=chain.invoke({\"query\":\"Elon Musk is the founder of\"})\n",
    "\n",
    "response\n"
   ],
   "metadata": {
    "collapsed": false,
    "ExecuteTime": {
     "end_time": "2024-09-10T14:58:55.090813400Z",
     "start_time": "2024-09-10T14:58:54.102383400Z"
    }
   }
  },
  {
   "cell_type": "code",
   "execution_count": 16,
   "outputs": [],
   "source": [],
   "metadata": {
    "collapsed": false,
    "ExecuteTime": {
     "end_time": "2024-09-10T14:58:55.093763Z",
     "start_time": "2024-09-10T14:58:55.092250100Z"
    }
   }
  }
 ],
 "metadata": {
  "kernelspec": {
   "display_name": "Python 3",
   "language": "python",
   "name": "python3"
  },
  "language_info": {
   "codemirror_mode": {
    "name": "ipython",
    "version": 2
   },
   "file_extension": ".py",
   "mimetype": "text/x-python",
   "name": "python",
   "nbconvert_exporter": "python",
   "pygments_lexer": "ipython2",
   "version": "2.7.6"
  }
 },
 "nbformat": 4,
 "nbformat_minor": 0
}
